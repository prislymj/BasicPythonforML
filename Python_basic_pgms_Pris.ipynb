{
  "nbformat": 4,
  "nbformat_minor": 0,
  "metadata": {
    "colab": {
      "provenance": [],
      "authorship_tag": "ABX9TyPQULQsGcVkoqXhU1J1L/YC",
      "include_colab_link": true
    },
    "kernelspec": {
      "name": "python3",
      "display_name": "Python 3"
    },
    "language_info": {
      "name": "python"
    }
  },
  "cells": [
    {
      "cell_type": "markdown",
      "metadata": {
        "id": "view-in-github",
        "colab_type": "text"
      },
      "source": [
        "<a href=\"https://colab.research.google.com/github/prislymj/BasicPythonforML/blob/main/Python_basic_pgms_Pris.ipynb\" target=\"_parent\"><img src=\"https://colab.research.google.com/assets/colab-badge.svg\" alt=\"Open In Colab\"/></a>"
      ]
    },
    {
      "cell_type": "markdown",
      "source": [
        "## 1. Program to find largest of three numbers\n",
        "- **Step 1:** Read three numbers or assign three numbers\n",
        "- **Step 2:** Compare the three numbers using ```if-elif-else```\n",
        "- **Step 3:** Print the largest number\n",
        "\n"
      ],
      "metadata": {
        "id": "0Gul8HhUAbw8"
      }
    },
    {
      "cell_type": "code",
      "execution_count": null,
      "metadata": {
        "colab": {
          "base_uri": "https://localhost:8080/"
        },
        "id": "_mA-BugJ8hWp",
        "outputId": "a0514cdb-c51e-4843-e071-f450d264469c"
      },
      "outputs": [
        {
          "output_type": "stream",
          "name": "stdout",
          "text": [
            "Enter first number: 22\n",
            "Enter second number: 3\n",
            "Enter third number: 16\n",
            "The largest number is 22.0\n"
          ]
        }
      ],
      "source": [
        "\"\"\"\n",
        "# Python program to find the largest number among the three input numbers\n",
        "\"\"\"\n",
        "#num1 = 40\n",
        "#num2 = 24\n",
        "#num3 = 32\n",
        "#uncomment following lines to take three numbers from user\n",
        "num1 = float(input(\"Enter first number: \"))\n",
        "num2 = float(input(\"Enter second number: \"))\n",
        "num3 = float(input(\"Enter third number: \"))\n",
        "if (num1 >= num2) and (num1 >= num3):\n",
        "   largest = num1\n",
        "elif (num2 >= num1) and (num2 >= num3):\n",
        "   largest = num2\n",
        "else:\n",
        "   largest = num3\n",
        "print(\"The largest number is\", largest)"
      ]
    },
    {
      "cell_type": "markdown",
      "source": [
        "## 2. Printing multiplication table\n",
        "\n",
        "- **Step 1**: initialise num=12\n",
        "- **Step 2:** For numbers from 1 to num\n",
        "- **Step 3:** Print the result"
      ],
      "metadata": {
        "id": "xIDWR2uLBHRV"
      }
    },
    {
      "cell_type": "code",
      "source": [
        "# Multiplication table (from 1 to 10) in Python\n",
        "num=12\n",
        "# To take input from the user\n",
        "#num = int(input(\"Display multiplication table of? \"))\n",
        "\n",
        "# Iterate 10 times from i = 1 to 10\n",
        "for i in range(1, 11):\n",
        "   print(num, 'x', i, '=', num*i)"
      ],
      "metadata": {
        "colab": {
          "base_uri": "https://localhost:8080/"
        },
        "id": "5zLfKfLxBGn2",
        "outputId": "4c62506b-0dd5-416d-935d-6211ee9b9abc"
      },
      "execution_count": null,
      "outputs": [
        {
          "output_type": "stream",
          "name": "stdout",
          "text": [
            "12 x 1 = 12\n",
            "12 x 2 = 24\n",
            "12 x 3 = 36\n",
            "12 x 4 = 48\n",
            "12 x 5 = 60\n",
            "12 x 6 = 72\n",
            "12 x 7 = 84\n",
            "12 x 8 = 96\n",
            "12 x 9 = 108\n",
            "12 x 10 = 120\n"
          ]
        }
      ]
    },
    {
      "cell_type": "markdown",
      "source": [
        ">**Task:** Get an integer less than 12 from the user and display its multiplication table.\n",
        "\n",
        "- **Step 1**: Read number from user\n",
        "- **Step 2:** For numbers from 1 to num, \n",
        "- **Step 3:** Print the result"
      ],
      "metadata": {
        "id": "BlTsoWLsBdoN"
      }
    },
    {
      "cell_type": "code",
      "source": [
        "num = int(input(\"Display multiplication table of? \"))\n",
        "\n",
        "# Iterate 10 times from i = 1 to 10\n",
        "for i in range(1, 11):\n",
        "   print(num, 'x', i, '=', num*i)"
      ],
      "metadata": {
        "colab": {
          "base_uri": "https://localhost:8080/"
        },
        "id": "lLL6ToTRCZ2W",
        "outputId": "11c3aace-8de5-41fd-d536-0d50754f5dd2"
      },
      "execution_count": null,
      "outputs": [
        {
          "output_type": "stream",
          "name": "stdout",
          "text": [
            "Display multiplication table of? 6\n",
            "6 x 1 = 6\n",
            "6 x 2 = 12\n",
            "6 x 3 = 18\n",
            "6 x 4 = 24\n",
            "6 x 5 = 30\n",
            "6 x 6 = 36\n",
            "6 x 7 = 42\n",
            "6 x 8 = 48\n",
            "6 x 9 = 54\n",
            "6 x 10 = 60\n"
          ]
        }
      ]
    },
    {
      "cell_type": "markdown",
      "source": [
        "## 3. Check for sign of a number\n",
        "\n",
        "- **Step 1:** Read a number from user\n",
        "- **Step 2:** If number>0, print \"Positive number\"\n",
        "- **Step 3:** Else if number==0, print \"Zero\"\n",
        "- **Step 4:** Else print \"Negative number\""
      ],
      "metadata": {
        "id": "KNIixCGqCv4W"
      }
    },
    {
      "cell_type": "code",
      "source": [
        "num = float(input(\"Enter a number: \"))\n",
        "if num > 0:\n",
        "   print(\"Positive number\")\n",
        "elif num == 0:\n",
        "   print(\"Zero\")\n",
        "else:\n",
        "   print(\"Negative number\")"
      ],
      "metadata": {
        "colab": {
          "base_uri": "https://localhost:8080/"
        },
        "id": "-tRrcJvrDQAk",
        "outputId": "03f3a0a5-d37a-459f-80aa-91a12b024738"
      },
      "execution_count": null,
      "outputs": [
        {
          "output_type": "stream",
          "name": "stdout",
          "text": [
            "Enter a number: 54\n",
            "Positive number\n"
          ]
        }
      ]
    },
    {
      "cell_type": "markdown",
      "source": [
        "## 4. Find surface area and volume of a cylinder\n",
        "\n",
        "Let $r$ is the base radius and $h$ is the height of a right circular cylinder.\n",
        "$$SA=2\\pi r(r+h)$$\n",
        "\n",
        "$$V=\\pi r^2 h$$\n",
        "\n",
        "- **Step 1:** Assign values for $pi$, $r$ and $h$\n",
        "- **Step 2:** Apply formulae for finding surface area and volume\n",
        "- **Step 3:** Print the result\n"
      ],
      "metadata": {
        "id": "Ve8T9eUUDSpU"
      }
    },
    {
      "cell_type": "code",
      "source": [
        "#from math import pi\n",
        "pi=3.14\n",
        "r=2.6\n",
        "h=1.6\n",
        "SA=2*pi*r*(r+h)\n",
        "V=pi*r**2*h\n",
        "print((\"Surface Area is {} and Volume is {}\").format(SA,V))"
      ],
      "metadata": {
        "colab": {
          "base_uri": "https://localhost:8080/"
        },
        "id": "nXzmBCPvDSZ9",
        "outputId": "f405eb18-4621-4b2f-a834-8d0ddbb0086f"
      },
      "execution_count": null,
      "outputs": [
        {
          "output_type": "stream",
          "name": "stdout",
          "text": [
            "Surface Area is 68.57760000000002 and Volume is 33.96224\n"
          ]
        }
      ]
    },
    {
      "cell_type": "markdown",
      "source": [
        "## 5. Find area of a circle with radius $r$ using user input\n",
        "\n",
        "- **Step 1:** Read radius from user\n",
        "- **Step 2:** Apply formulae of area of circle\n",
        "- **Step 3:** Print the result"
      ],
      "metadata": {
        "id": "8iUUXhSHD3R8"
      }
    },
    {
      "cell_type": "code",
      "source": [
        "\"\"\"\n",
        "program to find area of a circle\n",
        "\"\"\"\n",
        "r=float(input(\"Enter the radius: \"))\n",
        "print(\"Area: \",pi*r**2)"
      ],
      "metadata": {
        "colab": {
          "base_uri": "https://localhost:8080/"
        },
        "id": "Ourzg9-2D29M",
        "outputId": "02c6f6ec-dedd-42a6-e894-9519e31e6e34"
      },
      "execution_count": null,
      "outputs": [
        {
          "output_type": "stream",
          "name": "stdout",
          "text": [
            "Enter the radius: 7\n",
            "Area:  153.86\n"
          ]
        }
      ]
    },
    {
      "cell_type": "markdown",
      "source": [
        "## 6. Find the area of a rectangle with length $l$ and breadth $b$\n",
        "\n",
        "- **Step 1:** Assign values for $l$ and $b$\n",
        "- **Step 2:** Apply formulae of area of rectangle\n",
        "- **Step 3:** Print the result"
      ],
      "metadata": {
        "id": "og-Jk32WEIdj"
      }
    },
    {
      "cell_type": "code",
      "source": [
        "l=2;b=5.2\n",
        "Area=l*b\n",
        "print(\"Area of the Rectangle is : \",Area)"
      ],
      "metadata": {
        "colab": {
          "base_uri": "https://localhost:8080/"
        },
        "id": "KNIDJf60EXyj",
        "outputId": "e481b485-7404-4da4-f6a8-3b770fc387e1"
      },
      "execution_count": null,
      "outputs": [
        {
          "output_type": "stream",
          "name": "stdout",
          "text": [
            "Area of the Rectangle is :  10.4\n"
          ]
        }
      ]
    },
    {
      "cell_type": "markdown",
      "source": [
        "## 7. Replacing a word with another word  in a sentence\n",
        "\n",
        "Use the `replace()` method in `python`\n",
        "\n",
        ">**Syntax:**\n",
        "\n",
        "```\n",
        "str.replace(old,new)\n",
        "```\n",
        "\n",
        "- **Step 1:** Initialise a string\n",
        "- **Step 2:** Replace one word with another using `replace()` function\n",
        "- **Step 3:** Print the replaced text"
      ],
      "metadata": {
        "id": "4p6lQJL2ETo7"
      }
    },
    {
      "cell_type": "code",
      "source": [
        "# program to replace a word by another word in a sentence\n",
        "\n",
        "text = 'hand ball is a hand full of hands'\n",
        "\n",
        "# replace 'hand' with 'foot'\n",
        "replaced_text = text.replace('hand ', 'foot ')\n",
        "print(replaced_text)"
      ],
      "metadata": {
        "colab": {
          "base_uri": "https://localhost:8080/"
        },
        "id": "78b6PBTcEsOU",
        "outputId": "04d6bb57-fcc2-4e4c-a67a-7e8d4876cc2f"
      },
      "execution_count": null,
      "outputs": [
        {
          "output_type": "stream",
          "name": "stdout",
          "text": [
            "foot ball is a foot full of hands\n"
          ]
        }
      ]
    },
    {
      "cell_type": "markdown",
      "source": [
        "## 8. Program to remove a word from a sentence\n",
        "\n",
        "We will use the string method `remove()`.\n",
        "\n",
        ">**Syntax:**\n",
        "\n",
        "```\n",
        "str.remove(word to be removed)\n",
        "```\n",
        "\n",
        "- **Step 1:** Read string to be modified from user\n",
        "- **Step 2:** Remove one word by replacing the word with \"\" \n",
        "- **Step 3:** Print the modified text"
      ],
      "metadata": {
        "id": "nX0zl3LPFGHl"
      }
    },
    {
      "cell_type": "code",
      "source": [
        "# program to remove a word from a sentence\n",
        "text = input(\"Enter the String: \")\n",
        "word = input(\"Enter a Word to Delete: \")\n",
        "\n",
        "text = text.replace(word, \"\")\n",
        "print(\"The updated sentence is:\\n\")\n",
        "print(text)"
      ],
      "metadata": {
        "colab": {
          "base_uri": "https://localhost:8080/"
        },
        "id": "7ovnLZT7FWEg",
        "outputId": "4200e97b-72af-4469-8151-1081575d0e25"
      },
      "execution_count": null,
      "outputs": [
        {
          "output_type": "stream",
          "name": "stdout",
          "text": [
            "Enter the String: An apple a day can keep the doctor away\n",
            "Enter a Word to Delete: apple\n",
            "The updated sentence is:\n",
            "\n",
            "An  a day can keep the doctor away\n"
          ]
        }
      ]
    },
    {
      "cell_type": "code",
      "source": [
        "# program to remove a word from a sentence\n",
        "text = input(\"Enter the String: \")\n",
        "word = input(\"Enter a Word to Delete: \")\n",
        "\n",
        "text1 = text.split()\n",
        "print(\"The updated sentence is:\\n\")\n",
        "print(text1)"
      ],
      "metadata": {
        "colab": {
          "base_uri": "https://localhost:8080/",
          "height": 281
        },
        "id": "vDkRgTOHFqis",
        "outputId": "19bb4fcf-5e16-4417-f513-481848c728f4"
      },
      "execution_count": null,
      "outputs": [
        {
          "name": "stdout",
          "output_type": "stream",
          "text": [
            "Enter the String: An apple a day can keep the doctor away\n",
            "Enter a Word to Delete: doctor\n"
          ]
        },
        {
          "output_type": "error",
          "ename": "AttributeError",
          "evalue": "ignored",
          "traceback": [
            "\u001b[0;31m---------------------------------------------------------------------------\u001b[0m",
            "\u001b[0;31mAttributeError\u001b[0m                            Traceback (most recent call last)",
            "\u001b[0;32m<ipython-input-11-55393b169fc3>\u001b[0m in \u001b[0;36m<cell line: 5>\u001b[0;34m()\u001b[0m\n\u001b[1;32m      3\u001b[0m \u001b[0mword\u001b[0m \u001b[0;34m=\u001b[0m \u001b[0minput\u001b[0m\u001b[0;34m(\u001b[0m\u001b[0;34m\"Enter a Word to Delete: \"\u001b[0m\u001b[0;34m)\u001b[0m\u001b[0;34m\u001b[0m\u001b[0;34m\u001b[0m\u001b[0m\n\u001b[1;32m      4\u001b[0m \u001b[0;34m\u001b[0m\u001b[0m\n\u001b[0;32m----> 5\u001b[0;31m \u001b[0mtext1\u001b[0m \u001b[0;34m=\u001b[0m \u001b[0mtext\u001b[0m\u001b[0;34m.\u001b[0m\u001b[0mremove\u001b[0m\u001b[0;34m(\u001b[0m\u001b[0mword\u001b[0m\u001b[0;34m)\u001b[0m\u001b[0;34m\u001b[0m\u001b[0;34m\u001b[0m\u001b[0m\n\u001b[0m\u001b[1;32m      6\u001b[0m \u001b[0mprint\u001b[0m\u001b[0;34m(\u001b[0m\u001b[0;34m\"The updated sentence is:\\n\"\u001b[0m\u001b[0;34m)\u001b[0m\u001b[0;34m\u001b[0m\u001b[0;34m\u001b[0m\u001b[0m\n\u001b[1;32m      7\u001b[0m \u001b[0mprint\u001b[0m\u001b[0;34m(\u001b[0m\u001b[0mtext1\u001b[0m\u001b[0;34m)\u001b[0m\u001b[0;34m\u001b[0m\u001b[0;34m\u001b[0m\u001b[0m\n",
            "\u001b[0;31mAttributeError\u001b[0m: 'str' object has no attribute 'remove'"
          ]
        }
      ]
    },
    {
      "cell_type": "markdown",
      "source": [
        "## 9. Program to split a sentence into words\n",
        "\n",
        "use the `split()` method\n",
        ">**Syntax:**\n",
        "```\n",
        "str.split()\n",
        "```\n",
        "\n",
        "- **Step 1:** Initialise a sentence\n",
        "- **Step 2:** Split the sentence into an list of words using `split()` function\n",
        "- **Step 3:** Print the list"
      ],
      "metadata": {
        "id": "WZC_6WXgGUDT"
      }
    },
    {
      "cell_type": "code",
      "source": [
        "wordlist = text.split()\n",
        "wordlist"
      ],
      "metadata": {
        "colab": {
          "base_uri": "https://localhost:8080/"
        },
        "id": "xsco9IsLGlb8",
        "outputId": "3e9a2558-e3a0-4383-f1d2-e64b7523b921"
      },
      "execution_count": null,
      "outputs": [
        {
          "output_type": "execute_result",
          "data": {
            "text/plain": [
              "['An', 'apple', 'a', 'day', 'can', 'keep', 'the', 'doctor', 'away']"
            ]
          },
          "metadata": {},
          "execution_count": 12
        }
      ]
    },
    {
      "cell_type": "markdown",
      "source": [
        "## 10. Program to check if a list of words is in a long string at least one\n",
        "\n",
        "- **Step 1:** Initialise a list of words\n",
        "- **Step 2:** Initialise a string\n",
        "- **Step 3:** Take the intersection of the list of words and string split into list of words\n",
        "- **Step 4:** If amatch is foind, print \"Found one\""
      ],
      "metadata": {
        "id": "wwJZMJCnGt50"
      }
    },
    {
      "cell_type": "code",
      "source": [
        "# program to check atleat one occurance of keywords\n",
        "\n",
        "keyword_list = ['motorcycle', 'bike', 'bicycle', 'dirtbike', \"long\"]\n",
        "all_text = 'The bicycle is just as good company as most husbands and, when it gets old and shabby, a woman can dispose of it and get a new one without shocking the entire community'\n",
        "if set(keyword_list).intersection(all_text.split()):\n",
        "     print(\"Found One\")"
      ],
      "metadata": {
        "colab": {
          "base_uri": "https://localhost:8080/"
        },
        "id": "x1mVexATHId-",
        "outputId": "ce78a87b-cfec-41ec-94cc-cb1407f6fc6e"
      },
      "execution_count": null,
      "outputs": [
        {
          "output_type": "stream",
          "name": "stdout",
          "text": [
            "Found One\n"
          ]
        }
      ]
    },
    {
      "cell_type": "markdown",
      "source": [
        "## 11. Program to check a number is even or odd\n",
        "- **Step 1:** Read input from user\n",
        "- **Step 2:** If the number is perfectly divisisble by 2, print it is an even number\n",
        "- **Step 3:** Else, print it is an even number"
      ],
      "metadata": {
        "id": "IvvF8aeOHnKj"
      }
    },
    {
      "cell_type": "code",
      "source": [
        "num = int(input(\"Enter the Number: \"))\n",
        "if num%2==0:\n",
        "    print(\"\\n\",num,\"is an Even Number\")\n",
        "else:\n",
        "    print(\"\\n\",num,\"is an Odd Number\")"
      ],
      "metadata": {
        "colab": {
          "base_uri": "https://localhost:8080/"
        },
        "id": "3ykQRIBPH4Pp",
        "outputId": "e3444903-3901-43ec-9722-aa42fe7e3841"
      },
      "execution_count": null,
      "outputs": [
        {
          "output_type": "stream",
          "name": "stdout",
          "text": [
            "Enter the Number: 5\n",
            "\n",
            " 5 is an Odd Number\n"
          ]
        }
      ]
    },
    {
      "cell_type": "markdown",
      "source": [
        "## 12. Program to check whether an entered one is an alphabet or not\n",
        "- **Step 1:** Read a character\n",
        "- **Step 2:** If the character is an upper case or lowercase alphabet, print that it is an alphabet\n",
        "- **Step 3:** Else print it is not an alphabet"
      ],
      "metadata": {
        "id": "xafBqPvVH8_B"
      }
    },
    {
      "cell_type": "code",
      "source": [
        "c = input(\"Enter a Character: \")\n",
        "if c>='a' and c<='z':\n",
        "    print(\"\\nIt is an alphabet\")\n",
        "elif c>='A' and c<='z':\n",
        "    print(\"\\nIt is an alphabet\")\n",
        "else:\n",
        "    print(\"\\nIt is not an alphabet!\")"
      ],
      "metadata": {
        "colab": {
          "base_uri": "https://localhost:8080/"
        },
        "id": "6qsC_aiwIVG7",
        "outputId": "a59d0d24-1e47-44cd-875c-b40b3ce3dca8"
      },
      "execution_count": null,
      "outputs": [
        {
          "output_type": "stream",
          "name": "stdout",
          "text": [
            "Enter a Character: p\n",
            "\n",
            "It is an alphabet\n"
          ]
        }
      ]
    },
    {
      "cell_type": "markdown",
      "source": [
        "## 13. Program to check whether an entered letter is a vowel or not\n",
        "- **Step 1:** Enter the character\n",
        "- **Step 2:** Initialise a list containing vowels in both uppercase and lowercase\n",
        "- **Step 3:** If the entered character is present in the list of vowels, print that \"it is a vowel\"\n",
        "- **Step 4:** Else print \"it is a consonant\""
      ],
      "metadata": {
        "id": "0ylja8oWIZ3a"
      }
    },
    {
      "cell_type": "code",
      "source": [
        "c = input(\"Enter the Character: \")\n",
        "v={'a','e','i','o','u','A','E','I','O','U'}\n",
        "if c in v:\n",
        "    print(\"\\nIt is a Vowel\")\n",
        "else:\n",
        "    print(\"\\nIt is a Consonant\")"
      ],
      "metadata": {
        "colab": {
          "base_uri": "https://localhost:8080/"
        },
        "id": "XLuzwum9I9rC",
        "outputId": "a0d6c8e9-be84-47fe-83db-47f47fad9e45"
      },
      "execution_count": null,
      "outputs": [
        {
          "output_type": "stream",
          "name": "stdout",
          "text": [
            "Enter the Character: g\n",
            "\n",
            "It is a Consonant\n"
          ]
        }
      ]
    },
    {
      "cell_type": "markdown",
      "source": [
        ">**Another method**\n",
        "\n",
        "using `or` expression"
      ],
      "metadata": {
        "id": "3hCVDGaZJNwR"
      }
    },
    {
      "cell_type": "code",
      "source": [
        "c = input(\"Enter the Character: \")\n",
        "\n",
        "if c=='a' or c=='e' or c=='i' or c=='o' or c=='u':\n",
        "    print(\"\\nIt is a Vowel\")\n",
        "elif c=='A' or c=='E' or c=='I' or c=='O' or c=='U':\n",
        "    print(\"\\nIt is a Vowel\")\n",
        "else:\n",
        "    print(\"\\nIt is a Consonant\")"
      ],
      "metadata": {
        "colab": {
          "base_uri": "https://localhost:8080/"
        },
        "id": "zNp9Wus-JQMh",
        "outputId": "ad1f3cdd-3d84-4d85-f670-270a3926ffd3"
      },
      "execution_count": null,
      "outputs": [
        {
          "output_type": "stream",
          "name": "stdout",
          "text": [
            "Enter the Character: i\n",
            "\n",
            "It is a Vowel\n"
          ]
        }
      ]
    },
    {
      "cell_type": "markdown",
      "source": [
        "## 14. Program to check leap year\n",
        "\n",
        "- **Step 1:** Read year from user\n",
        "- **Step 2:** If the year is perfectly divisble by 4 and not divisible by 100, then print it is a leap year\n",
        "- **Step 3:** If the year is perfectlyy divisble by 400, then print it is a leap year\n",
        "- **Step 4:** Else print it is not a leap year"
      ],
      "metadata": {
        "id": "TVnpV0tUJjf5"
      }
    },
    {
      "cell_type": "code",
      "source": [
        "y = int(input(\"Enter the Year: \"))\n",
        "\n",
        "if y%4==0 and y%100!=0:\n",
        "    print(\"\\nIt is a Leap Year\")\n",
        "elif y%400==0:\n",
        "    print(\"\\nIt is a Leap Year\")\n",
        "else:\n",
        "    print(\"\\nIt is not a Leap Year\")"
      ],
      "metadata": {
        "colab": {
          "base_uri": "https://localhost:8080/"
        },
        "id": "YQc28miqKEzh",
        "outputId": "574fdcbd-cc7e-4763-ac1a-1b21c9760f8b"
      },
      "execution_count": null,
      "outputs": [
        {
          "output_type": "stream",
          "name": "stdout",
          "text": [
            "Enter the Year: 2024\n",
            "\n",
            "It is a Leap Year\n"
          ]
        }
      ]
    },
    {
      "cell_type": "markdown",
      "source": [
        "## Programs with iteratives"
      ],
      "metadata": {
        "id": "LWID19ZxKNhy"
      }
    },
    {
      "cell_type": "markdown",
      "source": [
        "## 15. Program to check whether a number is a perfect number or not\n",
        "\n",
        "A number $n$ is called a perfect number if sum of all its divisors gives $n$.\n",
        "\n",
        "- **Step 1:** Read number from user, num\n",
        "- **Step 2:** For numbers from 1 to num, ifa divisor is found, add it to sum\n",
        "- **Step 3:** If sum=num, then num is a perfect number\n",
        "- **Step 4:** Else it is not a perfect number"
      ],
      "metadata": {
        "id": "FZT7hJViKOTJ"
      }
    },
    {
      "cell_type": "code",
      "source": [
        "#program to check whether a given number is perfect\n",
        "num = int(input(\"Enter the Number:\"))\n",
        "sum = 0\n",
        "for i in range(1, num):\n",
        "  if num%i==0:\n",
        "    sum = sum+i\n",
        "if num==sum:\n",
        "  print(\"It is a Perfect Number\")\n",
        "else:\n",
        "  print(\"It is not a Perfect Number\")"
      ],
      "metadata": {
        "colab": {
          "base_uri": "https://localhost:8080/"
        },
        "id": "asFMPOg7KXLx",
        "outputId": "247d03b1-7503-446c-c8d1-2c8cd07dd1fb"
      },
      "execution_count": null,
      "outputs": [
        {
          "output_type": "stream",
          "name": "stdout",
          "text": [
            "Enter the Number:486\n",
            "It is not a Perfect Number\n"
          ]
        }
      ]
    },
    {
      "cell_type": "code",
      "source": [
        "## Program to list all perfect number below a limit\n",
        "num = int(input(\"Enter the limit:\"))\n",
        "print(\"Perfect numbers are:\")\n",
        "print(\"***\"*10)\n",
        "pn=[]\n",
        "for n in range(1,num):\n",
        "  sum = 0\n",
        "  for i in range(1, n):\n",
        "    if n%i==0:\n",
        "      sum = sum+i\n",
        "  if n==sum:\n",
        "    pn.append(n)\n",
        "print(pn)\n",
        "  "
      ],
      "metadata": {
        "colab": {
          "base_uri": "https://localhost:8080/"
        },
        "id": "BY6Nu_OYL2ww",
        "outputId": "d4d6cff5-9632-49a9-b6b1-d8b0c7a344ae"
      },
      "execution_count": null,
      "outputs": [
        {
          "output_type": "stream",
          "name": "stdout",
          "text": [
            "Enter the limit:100\n",
            "Perfect numbers are:\n",
            "******************************\n",
            "[6, 28]\n"
          ]
        }
      ]
    },
    {
      "cell_type": "markdown",
      "source": [
        "## 16. Program to test whether reversal of a number is same as itself\n",
        "\n",
        "- **Step 1:** Read a number from user\n",
        "- **Step 2:** Initialise rev=0 and orig=num \n",
        "- **Step 3:** Find reverse of the number, by taking last digits and adding it\n",
        "- **Step 4:** If orig==rev, then print \"The Number is Equal to Its Reverse\"\n",
        "- **Step 5:** Else print The Number is not Equal to Its Reverse"
      ],
      "metadata": {
        "id": "Pu-01XLZMEug"
      }
    },
    {
      "cell_type": "code",
      "source": [
        "num = int(input(\"Enter the Number: \"))\n",
        "rev = 0\n",
        "orig = num\n",
        "while num>0:\n",
        "    rem = num%10\n",
        "    rev = rem + (rev*10)\n",
        "    num = num//10\n",
        "\n",
        "if orig==rev:\n",
        "    print(\"\\nThe Number is Equal to Its Reverse\")\n",
        "else:\n",
        "    print(\"\\nThe Number is not Equal to Its Reverse\")"
      ],
      "metadata": {
        "colab": {
          "base_uri": "https://localhost:8080/"
        },
        "id": "NjtiX6IIMIlJ",
        "outputId": "2bec4095-8eec-4604-ab53-4bcd2f70ce37"
      },
      "execution_count": null,
      "outputs": [
        {
          "output_type": "stream",
          "name": "stdout",
          "text": [
            "Enter the Number: 434\n",
            "\n",
            "The Number is Equal to Its Reverse\n"
          ]
        }
      ]
    },
    {
      "cell_type": "markdown",
      "source": [
        "## 17. Program to count the number of digits in a number\n",
        "\n",
        "\n",
        "- **Step 1:** Read a number from user\n",
        "- **Step 2:** Initialise tot=0 \n",
        "- **Step 3:** Count the number of digits and incrememnt tot\n",
        "- **Step 4:** Print tot as the number of digits"
      ],
      "metadata": {
        "id": "E0ygCvykuNkH"
      }
    },
    {
      "cell_type": "code",
      "source": [
        "num = int(input(\"Enter the Number: \"))\n",
        "tot = 0\n",
        "\n",
        "while num:\n",
        "  num = num//10\n",
        "  tot = tot+1\n",
        "\n",
        "print(\"\\nTotal Digit: \")\n",
        "print(tot)"
      ],
      "metadata": {
        "colab": {
          "base_uri": "https://localhost:8080/"
        },
        "id": "bKiuShhFr1HD",
        "outputId": "89c87bd2-5b3a-4788-a0a4-0a0a5d258cb5"
      },
      "execution_count": null,
      "outputs": [
        {
          "output_type": "stream",
          "name": "stdout",
          "text": [
            "Enter the Number: 12345\n",
            "\n",
            "Total Digit: \n",
            "5\n"
          ]
        }
      ]
    },
    {
      "cell_type": "markdown",
      "source": [
        "## 18. Program to find sum of digits in a number\n",
        "\n",
        "\n",
        "- **Step 1:** Read a number from user\n",
        "- **Step 2:** Initialise sum=0\n",
        "- **Step 3:** Add to sum the value at ones place in num\n",
        "- **Step 4:** Print the sum"
      ],
      "metadata": {
        "id": "LCpDPbkxuv0K"
      }
    },
    {
      "cell_type": "code",
      "source": [
        "num = int(input(\"Enter a Number: \"))\n",
        "sum = 0\n",
        "while num>0:\n",
        "    rem = num%10\n",
        "    sum = sum+rem\n",
        "    num = num//10\n",
        "print(\"\\nSum of Digits of Given Number: \", sum)"
      ],
      "metadata": {
        "colab": {
          "base_uri": "https://localhost:8080/"
        },
        "id": "4Uy1GdK4u0Ik",
        "outputId": "34fb1fc8-6835-46b7-a1fe-5fe48913ce80"
      },
      "execution_count": null,
      "outputs": [
        {
          "output_type": "stream",
          "name": "stdout",
          "text": [
            "Enter a Number: 654\n",
            "\n",
            "Sum of Digits of Given Number:  15\n"
          ]
        }
      ]
    },
    {
      "cell_type": "markdown",
      "source": [
        "## 19. Program to find the sum of first and last digit of a number\n",
        "\n",
        "\n",
        "- **Step 1:** Read a number from user\n",
        "- **Step 2:** Store last digit in `last`, by taking modulo of num\n",
        "- **Step 3:** Finf the first digit, by dividing and iterating\n",
        "- **Step 4:** Add first and last digits and print the sum"
      ],
      "metadata": {
        "id": "u0mGKD8zvTE2"
      }
    },
    {
      "cell_type": "code",
      "source": [
        "num = int(input(\"Enter a Number: \"))\n",
        "\n",
        "count = 0\n",
        "while num!=0:\n",
        "    if count==0:\n",
        "        last = num%10\n",
        "        count = count+1\n",
        "    rem = num%10\n",
        "    num = int(num/10)\n",
        "\n",
        "sum = rem + last\n",
        "print(\"\\nSum of first and last digit =\", sum)"
      ],
      "metadata": {
        "id": "CSriuS_ivY6A",
        "colab": {
          "base_uri": "https://localhost:8080/"
        },
        "outputId": "fdc38b8f-ecb6-4460-a33e-6be54dfa2133"
      },
      "execution_count": null,
      "outputs": [
        {
          "output_type": "stream",
          "name": "stdout",
          "text": [
            "Enter a Number: 205\n",
            "\n",
            "Sum of first and last digit = 7\n"
          ]
        }
      ]
    },
    {
      "cell_type": "markdown",
      "source": [
        "## 20. Program to print first and last digit of a number"
      ],
      "metadata": {
        "id": "smVhW0qbvOO0"
      }
    },
    {
      "cell_type": "code",
      "source": [
        "num = int(input(\"Enter a Number: \"))\n",
        "org=num\n",
        "count = 0\n",
        "while num!=0:\n",
        "    if count==0:\n",
        "        last = num%10\n",
        "        count = count+1\n",
        "    rem = num%10\n",
        "    num = num//10\n",
        "FL=[rem,last]\n",
        "print(\"\\nThe first and last digit of \", org ,\" are: \", FL)"
      ],
      "metadata": {
        "colab": {
          "base_uri": "https://localhost:8080/"
        },
        "id": "1_Z5qGQUvgou",
        "outputId": "e8dc0673-cac2-4aac-d6a9-35d197aa410f"
      },
      "execution_count": null,
      "outputs": [
        {
          "output_type": "stream",
          "name": "stdout",
          "text": [
            "Enter a Number: 786\n",
            "\n",
            "The first and last digit of  786  are:  [7, 6]\n"
          ]
        }
      ]
    },
    {
      "cell_type": "markdown",
      "source": [
        "## Python program to display even and odd members in a tuple"
      ],
      "metadata": {
        "id": "R-_QxAxvzqHJ"
      }
    },
    {
      "cell_type": "code",
      "source": [
        "\"\"\"\n",
        "Python Program:\n",
        " Using slice [] operator to iterate over a specific parts of a tuple to print odd and even members\n",
        "\"\"\"\n",
        "even=[];odd=[]\n",
        "tuple_created = (\"p\", \"r\", \"o\", \"g\", \"r\", \"a\", \"m\", \"i\", \"z\")\n",
        "for char in tuple_created[ :  : 2]:\n",
        "   even.append(char)\n",
        "for char in tuple_created[1 :  : 2]:\n",
        "   odd.append(char)\n",
        "print(\"Even members: \",even,\"\\nOdd members: \",odd)\n"
      ],
      "metadata": {
        "colab": {
          "base_uri": "https://localhost:8080/"
        },
        "id": "vuDNoBYXzweI",
        "outputId": "7fe481bc-89db-4c3c-9b41-f36b5d264546"
      },
      "execution_count": null,
      "outputs": [
        {
          "output_type": "stream",
          "name": "stdout",
          "text": [
            "Even members:  ['p', 'o', 'r', 'm', 'z'] \n",
            "Odd members:  ['r', 'g', 'a', 'i']\n"
          ]
        }
      ]
    }
  ]
}